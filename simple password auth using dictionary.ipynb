{
 "cells": [
  {
   "cell_type": "code",
   "execution_count": 1,
   "id": "5e65eb7c",
   "metadata": {},
   "outputs": [],
   "source": [
    "import getpass"
   ]
  },
  {
   "cell_type": "code",
   "execution_count": 4,
   "id": "cb555280",
   "metadata": {},
   "outputs": [
    {
     "name": "stdout",
     "output_type": "stream",
     "text": [
      "Please Enter your username: chirag\n",
      "Please neter your password: ········\n",
      "Verified\n"
     ]
    }
   ],
   "source": [
    "data = {\"chirag\":\"chirag@810\",\"amd\":\"Ryzen\",\"Hp\":\"Victus\"}\n",
    "username = input(\"Please Enter your username: \")\n",
    "password = getpass.getpass(\"Please neter your password: \")\n",
    "for i in data.keys():\n",
    "    if username == i:\n",
    "        while password != data.get(i):\n",
    "            Password = getpass.getpass(\"Kindly enter valid password: \")\n",
    "        break\n",
    "print(\"Verified\")"
   ]
  },
  {
   "cell_type": "code",
   "execution_count": null,
   "id": "edd89ea4",
   "metadata": {},
   "outputs": [],
   "source": []
  },
  {
   "cell_type": "code",
   "execution_count": null,
   "id": "b3627022",
   "metadata": {},
   "outputs": [],
   "source": []
  }
 ],
 "metadata": {
  "kernelspec": {
   "display_name": "Python 3 (ipykernel)",
   "language": "python",
   "name": "python3"
  },
  "language_info": {
   "codemirror_mode": {
    "name": "ipython",
    "version": 3
   },
   "file_extension": ".py",
   "mimetype": "text/x-python",
   "name": "python",
   "nbconvert_exporter": "python",
   "pygments_lexer": "ipython3",
   "version": "3.11.5"
  }
 },
 "nbformat": 4,
 "nbformat_minor": 5
}
